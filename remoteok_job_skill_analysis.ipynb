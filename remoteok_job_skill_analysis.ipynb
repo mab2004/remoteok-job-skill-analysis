{
  "nbformat": 4,
  "nbformat_minor": 0,
  "metadata": {
    "colab": {
      "provenance": [],
      "authorship_tag": "ABX9TyPlcRFKH9GD6JD3az1IHoT0",
      "include_colab_link": true
    },
    "kernelspec": {
      "name": "python3",
      "display_name": "Python 3"
    },
    "language_info": {
      "name": "python"
    }
  },
  "cells": [
    {
      "cell_type": "markdown",
      "metadata": {
        "id": "view-in-github",
        "colab_type": "text"
      },
      "source": [
        "<a href=\"https://colab.research.google.com/github/mab2004/remoteok-job-skill-analysis/blob/main/remoteok_job_skill_analysis.ipynb\" target=\"_parent\"><img src=\"https://colab.research.google.com/assets/colab-badge.svg\" alt=\"Open In Colab\"/></a>"
      ]
    },
    {
      "cell_type": "markdown",
      "source": [
        "## Import & Libraries"
      ],
      "metadata": {
        "id": "LdE7SGb6imsL"
      }
    },
    {
      "cell_type": "code",
      "source": [
        "!pip install requests beautifulsoup4 pandas matplotlib seaborn\n",
        "\n",
        "import requests\n",
        "from bs4 import BeautifulSoup\n",
        "import pandas as pd\n",
        "import matplotlib.pyplot as plt\n",
        "import seaborn as sns\n"
      ],
      "metadata": {
        "id": "Oy64JVuTmp87"
      },
      "execution_count": null,
      "outputs": []
    },
    {
      "cell_type": "markdown",
      "source": [
        "## Request page source from URL"
      ],
      "metadata": {
        "id": "nYju0Wjwm-zc"
      }
    },
    {
      "cell_type": "code",
      "source": [
        "url = \"https://remoteok.com/api\""
      ],
      "metadata": {
        "id": "nl9R-MGopzBw"
      },
      "execution_count": 34,
      "outputs": []
    },
    {
      "cell_type": "code",
      "source": [
        "headers = {\n",
        "    'User-Agent': 'Mozilla/5.0 (Windows NT 10.0; Win64; x64) AppleWebKit/537.36 (KHTML, like Gecko) Chrome/58.0.3029.110 Safari/537.3'\n",
        "}\n",
        "page = requests.get(url, headers=headers)\n",
        "page"
      ],
      "metadata": {
        "colab": {
          "base_uri": "https://localhost:8080/"
        },
        "id": "JhfRJ_Bnp04I",
        "outputId": "e2076631-ad39-4fa5-f0d8-399dcdb7bc39"
      },
      "execution_count": 35,
      "outputs": [
        {
          "output_type": "execute_result",
          "data": {
            "text/plain": [
              "<Response [200]>"
            ]
          },
          "metadata": {},
          "execution_count": 35
        }
      ]
    },
    {
      "cell_type": "markdown",
      "source": [
        "## Use the JSON API"
      ],
      "metadata": {
        "id": "2qARkNmNwfIE"
      }
    },
    {
      "cell_type": "code",
      "source": [
        "if response.status_code == 200:\n",
        "    data = response.json()\n",
        "    # First element is site metadata, jobs start after that\n",
        "    jobs = data[1:]\n",
        "\n",
        "    df = pd.DataFrame(jobs)\n",
        "    print(\"Total Jobs Scraped via API:\", len(df))\n",
        "    df.head(10)\n",
        "else:\n",
        "    print(\"Failed to fetch jobs:\", response.status_code)\n"
      ],
      "metadata": {
        "colab": {
          "base_uri": "https://localhost:8080/"
        },
        "id": "ke1Doh-IwIAK",
        "outputId": "5b73fef5-20c8-49c6-c529-f516dcb94362"
      },
      "execution_count": 38,
      "outputs": [
        {
          "output_type": "stream",
          "name": "stdout",
          "text": [
            "Total Jobs Scraped via API: 98\n"
          ]
        }
      ]
    },
    {
      "cell_type": "markdown",
      "source": [
        "## Clean the DataFrame"
      ],
      "metadata": {
        "id": "5myPW08RwyJ9"
      }
    },
    {
      "cell_type": "code",
      "source": [
        "# Select only useful columns\n",
        "clean_df = df[[\"position\", \"company\", \"tags\", \"date\", \"url\"]].copy()\n",
        "\n",
        "# Rename columns for clarity\n",
        "clean_df.rename(columns={\n",
        "    \"position\": \"Job Title\",\n",
        "    \"company\": \"Company\",\n",
        "    \"tags\": \"Skills\",\n",
        "    \"date\": \"Date Posted\",\n",
        "    \"url\": \"Job URL\"\n",
        "}, inplace=True)\n",
        "\n",
        "# Convert skills list into comma-separated string\n",
        "clean_df[\"Skills\"] = clean_df[\"Skills\"].apply(lambda x: \", \".join(x) if isinstance(x, list) else x)\n",
        "\n",
        "# Save to CSV\n",
        "csv_filename = \"remoteok_jobs.csv\"\n",
        "clean_df.to_csv(csv_filename, index=False, encoding=\"utf-8\")\n",
        "\n",
        "print(f\" Cleaned DataFrame saved to {csv_filename}\")\n",
        "print(\"Preview of first 10 rows:\")\n",
        "clean_df.head(10)\n"
      ],
      "metadata": {
        "colab": {
          "base_uri": "https://localhost:8080/",
          "height": 571
        },
        "id": "29aBseOkw0D9",
        "outputId": "7153d697-160b-4196-8dda-c1c3166c140b"
      },
      "execution_count": 42,
      "outputs": [
        {
          "output_type": "stream",
          "name": "stdout",
          "text": [
            " Cleaned DataFrame saved to remoteok_jobs.csv\n",
            "Preview of first 10 rows:\n"
          ]
        },
        {
          "output_type": "execute_result",
          "data": {
            "text/plain": [
              "                                   Job Title                        Company  \\\n",
              "0              Support Specialist and Writer  Interaction Design Foundation   \n",
              "1  Generalist Data Annotator No Exp Required                   HelixRecruit   \n",
              "2          Global Operations Manager Fashion                  Rosie Etienne   \n",
              "3                Senior Full stack Developer                       Lemon.io   \n",
              "4                          LLM Data Engineer             Sanctuary Computer   \n",
              "5                     Client Success Manager                          Venus   \n",
              "6              Senior Ruby on Rails Engineer                         EverAI   \n",
              "7                Senior Performance Marketer                         EverAI   \n",
              "8                 Senior Full Stack Engineer                       Aguru UK   \n",
              "9                     Senior DevOps Engineer                       Aguru UK   \n",
              "\n",
              "                                              Skills  \\\n",
              "0  education, customer support, content writing, ...   \n",
              "1                                        writing, ai   \n",
              "2                                         other, ops   \n",
              "3  engineer, dev, senior, full stack, javascript,...   \n",
              "4  dev, senior, backend, exec, javascript, ruby, ...   \n",
              "5                                          marketing   \n",
              "6  engineer, dev, technical, backend, full stack,...   \n",
              "7                                          marketing   \n",
              "8                engineer, dev, technical, front end   \n",
              "9               engineer, technical, backend, devops   \n",
              "\n",
              "                 Date Posted  \\\n",
              "0  2025-09-16T11:01:08+00:00   \n",
              "1  2025-09-14T21:56:30+00:00   \n",
              "2  2025-09-13T09:07:25+00:00   \n",
              "3  2025-09-12T15:19:46+00:00   \n",
              "4  2025-09-12T11:44:56+00:00   \n",
              "5  2025-09-09T23:58:18+00:00   \n",
              "6  2025-09-08T14:58:33+00:00   \n",
              "7  2025-09-08T10:00:03+00:00   \n",
              "8  2025-09-06T15:10:56+00:00   \n",
              "9  2025-09-06T14:38:18+00:00   \n",
              "\n",
              "                                             Job URL  \n",
              "0  https://remoteOK.com/remote-jobs/remote-suppor...  \n",
              "1  https://remoteOK.com/remote-jobs/remote-genera...  \n",
              "2  https://remoteOK.com/remote-jobs/remote-global...  \n",
              "3  https://remoteOK.com/remote-jobs/remote-senior...  \n",
              "4  https://remoteOK.com/remote-jobs/remote-llm-da...  \n",
              "5  https://remoteOK.com/remote-jobs/remote-client...  \n",
              "6  https://remoteOK.com/remote-jobs/remote-senior...  \n",
              "7  https://remoteOK.com/remote-jobs/remote-senior...  \n",
              "8  https://remoteOK.com/remote-jobs/remote-senior...  \n",
              "9  https://remoteOK.com/remote-jobs/remote-senior...  "
            ],
            "text/html": [
              "\n",
              "  <div id=\"df-79638e8d-745a-45ac-af77-169d0eeba599\" class=\"colab-df-container\">\n",
              "    <div>\n",
              "<style scoped>\n",
              "    .dataframe tbody tr th:only-of-type {\n",
              "        vertical-align: middle;\n",
              "    }\n",
              "\n",
              "    .dataframe tbody tr th {\n",
              "        vertical-align: top;\n",
              "    }\n",
              "\n",
              "    .dataframe thead th {\n",
              "        text-align: right;\n",
              "    }\n",
              "</style>\n",
              "<table border=\"1\" class=\"dataframe\">\n",
              "  <thead>\n",
              "    <tr style=\"text-align: right;\">\n",
              "      <th></th>\n",
              "      <th>Job Title</th>\n",
              "      <th>Company</th>\n",
              "      <th>Skills</th>\n",
              "      <th>Date Posted</th>\n",
              "      <th>Job URL</th>\n",
              "    </tr>\n",
              "  </thead>\n",
              "  <tbody>\n",
              "    <tr>\n",
              "      <th>0</th>\n",
              "      <td>Support Specialist and Writer</td>\n",
              "      <td>Interaction Design Foundation</td>\n",
              "      <td>education, customer support, content writing, ...</td>\n",
              "      <td>2025-09-16T11:01:08+00:00</td>\n",
              "      <td>https://remoteOK.com/remote-jobs/remote-suppor...</td>\n",
              "    </tr>\n",
              "    <tr>\n",
              "      <th>1</th>\n",
              "      <td>Generalist Data Annotator No Exp Required</td>\n",
              "      <td>HelixRecruit</td>\n",
              "      <td>writing, ai</td>\n",
              "      <td>2025-09-14T21:56:30+00:00</td>\n",
              "      <td>https://remoteOK.com/remote-jobs/remote-genera...</td>\n",
              "    </tr>\n",
              "    <tr>\n",
              "      <th>2</th>\n",
              "      <td>Global Operations Manager Fashion</td>\n",
              "      <td>Rosie Etienne</td>\n",
              "      <td>other, ops</td>\n",
              "      <td>2025-09-13T09:07:25+00:00</td>\n",
              "      <td>https://remoteOK.com/remote-jobs/remote-global...</td>\n",
              "    </tr>\n",
              "    <tr>\n",
              "      <th>3</th>\n",
              "      <td>Senior Full stack Developer</td>\n",
              "      <td>Lemon.io</td>\n",
              "      <td>engineer, dev, senior, full stack, javascript,...</td>\n",
              "      <td>2025-09-12T15:19:46+00:00</td>\n",
              "      <td>https://remoteOK.com/remote-jobs/remote-senior...</td>\n",
              "    </tr>\n",
              "    <tr>\n",
              "      <th>4</th>\n",
              "      <td>LLM Data Engineer</td>\n",
              "      <td>Sanctuary Computer</td>\n",
              "      <td>dev, senior, backend, exec, javascript, ruby, ...</td>\n",
              "      <td>2025-09-12T11:44:56+00:00</td>\n",
              "      <td>https://remoteOK.com/remote-jobs/remote-llm-da...</td>\n",
              "    </tr>\n",
              "    <tr>\n",
              "      <th>5</th>\n",
              "      <td>Client Success Manager</td>\n",
              "      <td>Venus</td>\n",
              "      <td>marketing</td>\n",
              "      <td>2025-09-09T23:58:18+00:00</td>\n",
              "      <td>https://remoteOK.com/remote-jobs/remote-client...</td>\n",
              "    </tr>\n",
              "    <tr>\n",
              "      <th>6</th>\n",
              "      <td>Senior Ruby on Rails Engineer</td>\n",
              "      <td>EverAI</td>\n",
              "      <td>engineer, dev, technical, backend, full stack,...</td>\n",
              "      <td>2025-09-08T14:58:33+00:00</td>\n",
              "      <td>https://remoteOK.com/remote-jobs/remote-senior...</td>\n",
              "    </tr>\n",
              "    <tr>\n",
              "      <th>7</th>\n",
              "      <td>Senior Performance Marketer</td>\n",
              "      <td>EverAI</td>\n",
              "      <td>marketing</td>\n",
              "      <td>2025-09-08T10:00:03+00:00</td>\n",
              "      <td>https://remoteOK.com/remote-jobs/remote-senior...</td>\n",
              "    </tr>\n",
              "    <tr>\n",
              "      <th>8</th>\n",
              "      <td>Senior Full Stack Engineer</td>\n",
              "      <td>Aguru UK</td>\n",
              "      <td>engineer, dev, technical, front end</td>\n",
              "      <td>2025-09-06T15:10:56+00:00</td>\n",
              "      <td>https://remoteOK.com/remote-jobs/remote-senior...</td>\n",
              "    </tr>\n",
              "    <tr>\n",
              "      <th>9</th>\n",
              "      <td>Senior DevOps Engineer</td>\n",
              "      <td>Aguru UK</td>\n",
              "      <td>engineer, technical, backend, devops</td>\n",
              "      <td>2025-09-06T14:38:18+00:00</td>\n",
              "      <td>https://remoteOK.com/remote-jobs/remote-senior...</td>\n",
              "    </tr>\n",
              "  </tbody>\n",
              "</table>\n",
              "</div>\n",
              "    <div class=\"colab-df-buttons\">\n",
              "\n",
              "  <div class=\"colab-df-container\">\n",
              "    <button class=\"colab-df-convert\" onclick=\"convertToInteractive('df-79638e8d-745a-45ac-af77-169d0eeba599')\"\n",
              "            title=\"Convert this dataframe to an interactive table.\"\n",
              "            style=\"display:none;\">\n",
              "\n",
              "  <svg xmlns=\"http://www.w3.org/2000/svg\" height=\"24px\" viewBox=\"0 -960 960 960\">\n",
              "    <path d=\"M120-120v-720h720v720H120Zm60-500h600v-160H180v160Zm220 220h160v-160H400v160Zm0 220h160v-160H400v160ZM180-400h160v-160H180v160Zm440 0h160v-160H620v160ZM180-180h160v-160H180v160Zm440 0h160v-160H620v160Z\"/>\n",
              "  </svg>\n",
              "    </button>\n",
              "\n",
              "  <style>\n",
              "    .colab-df-container {\n",
              "      display:flex;\n",
              "      gap: 12px;\n",
              "    }\n",
              "\n",
              "    .colab-df-convert {\n",
              "      background-color: #E8F0FE;\n",
              "      border: none;\n",
              "      border-radius: 50%;\n",
              "      cursor: pointer;\n",
              "      display: none;\n",
              "      fill: #1967D2;\n",
              "      height: 32px;\n",
              "      padding: 0 0 0 0;\n",
              "      width: 32px;\n",
              "    }\n",
              "\n",
              "    .colab-df-convert:hover {\n",
              "      background-color: #E2EBFA;\n",
              "      box-shadow: 0px 1px 2px rgba(60, 64, 67, 0.3), 0px 1px 3px 1px rgba(60, 64, 67, 0.15);\n",
              "      fill: #174EA6;\n",
              "    }\n",
              "\n",
              "    .colab-df-buttons div {\n",
              "      margin-bottom: 4px;\n",
              "    }\n",
              "\n",
              "    [theme=dark] .colab-df-convert {\n",
              "      background-color: #3B4455;\n",
              "      fill: #D2E3FC;\n",
              "    }\n",
              "\n",
              "    [theme=dark] .colab-df-convert:hover {\n",
              "      background-color: #434B5C;\n",
              "      box-shadow: 0px 1px 3px 1px rgba(0, 0, 0, 0.15);\n",
              "      filter: drop-shadow(0px 1px 2px rgba(0, 0, 0, 0.3));\n",
              "      fill: #FFFFFF;\n",
              "    }\n",
              "  </style>\n",
              "\n",
              "    <script>\n",
              "      const buttonEl =\n",
              "        document.querySelector('#df-79638e8d-745a-45ac-af77-169d0eeba599 button.colab-df-convert');\n",
              "      buttonEl.style.display =\n",
              "        google.colab.kernel.accessAllowed ? 'block' : 'none';\n",
              "\n",
              "      async function convertToInteractive(key) {\n",
              "        const element = document.querySelector('#df-79638e8d-745a-45ac-af77-169d0eeba599');\n",
              "        const dataTable =\n",
              "          await google.colab.kernel.invokeFunction('convertToInteractive',\n",
              "                                                    [key], {});\n",
              "        if (!dataTable) return;\n",
              "\n",
              "        const docLinkHtml = 'Like what you see? Visit the ' +\n",
              "          '<a target=\"_blank\" href=https://colab.research.google.com/notebooks/data_table.ipynb>data table notebook</a>'\n",
              "          + ' to learn more about interactive tables.';\n",
              "        element.innerHTML = '';\n",
              "        dataTable['output_type'] = 'display_data';\n",
              "        await google.colab.output.renderOutput(dataTable, element);\n",
              "        const docLink = document.createElement('div');\n",
              "        docLink.innerHTML = docLinkHtml;\n",
              "        element.appendChild(docLink);\n",
              "      }\n",
              "    </script>\n",
              "  </div>\n",
              "\n",
              "\n",
              "    <div id=\"df-acf1b23a-47fe-41a4-8e93-5a019e06c0f3\">\n",
              "      <button class=\"colab-df-quickchart\" onclick=\"quickchart('df-acf1b23a-47fe-41a4-8e93-5a019e06c0f3')\"\n",
              "                title=\"Suggest charts\"\n",
              "                style=\"display:none;\">\n",
              "\n",
              "<svg xmlns=\"http://www.w3.org/2000/svg\" height=\"24px\"viewBox=\"0 0 24 24\"\n",
              "     width=\"24px\">\n",
              "    <g>\n",
              "        <path d=\"M19 3H5c-1.1 0-2 .9-2 2v14c0 1.1.9 2 2 2h14c1.1 0 2-.9 2-2V5c0-1.1-.9-2-2-2zM9 17H7v-7h2v7zm4 0h-2V7h2v10zm4 0h-2v-4h2v4z\"/>\n",
              "    </g>\n",
              "</svg>\n",
              "      </button>\n",
              "\n",
              "<style>\n",
              "  .colab-df-quickchart {\n",
              "      --bg-color: #E8F0FE;\n",
              "      --fill-color: #1967D2;\n",
              "      --hover-bg-color: #E2EBFA;\n",
              "      --hover-fill-color: #174EA6;\n",
              "      --disabled-fill-color: #AAA;\n",
              "      --disabled-bg-color: #DDD;\n",
              "  }\n",
              "\n",
              "  [theme=dark] .colab-df-quickchart {\n",
              "      --bg-color: #3B4455;\n",
              "      --fill-color: #D2E3FC;\n",
              "      --hover-bg-color: #434B5C;\n",
              "      --hover-fill-color: #FFFFFF;\n",
              "      --disabled-bg-color: #3B4455;\n",
              "      --disabled-fill-color: #666;\n",
              "  }\n",
              "\n",
              "  .colab-df-quickchart {\n",
              "    background-color: var(--bg-color);\n",
              "    border: none;\n",
              "    border-radius: 50%;\n",
              "    cursor: pointer;\n",
              "    display: none;\n",
              "    fill: var(--fill-color);\n",
              "    height: 32px;\n",
              "    padding: 0;\n",
              "    width: 32px;\n",
              "  }\n",
              "\n",
              "  .colab-df-quickchart:hover {\n",
              "    background-color: var(--hover-bg-color);\n",
              "    box-shadow: 0 1px 2px rgba(60, 64, 67, 0.3), 0 1px 3px 1px rgba(60, 64, 67, 0.15);\n",
              "    fill: var(--button-hover-fill-color);\n",
              "  }\n",
              "\n",
              "  .colab-df-quickchart-complete:disabled,\n",
              "  .colab-df-quickchart-complete:disabled:hover {\n",
              "    background-color: var(--disabled-bg-color);\n",
              "    fill: var(--disabled-fill-color);\n",
              "    box-shadow: none;\n",
              "  }\n",
              "\n",
              "  .colab-df-spinner {\n",
              "    border: 2px solid var(--fill-color);\n",
              "    border-color: transparent;\n",
              "    border-bottom-color: var(--fill-color);\n",
              "    animation:\n",
              "      spin 1s steps(1) infinite;\n",
              "  }\n",
              "\n",
              "  @keyframes spin {\n",
              "    0% {\n",
              "      border-color: transparent;\n",
              "      border-bottom-color: var(--fill-color);\n",
              "      border-left-color: var(--fill-color);\n",
              "    }\n",
              "    20% {\n",
              "      border-color: transparent;\n",
              "      border-left-color: var(--fill-color);\n",
              "      border-top-color: var(--fill-color);\n",
              "    }\n",
              "    30% {\n",
              "      border-color: transparent;\n",
              "      border-left-color: var(--fill-color);\n",
              "      border-top-color: var(--fill-color);\n",
              "      border-right-color: var(--fill-color);\n",
              "    }\n",
              "    40% {\n",
              "      border-color: transparent;\n",
              "      border-right-color: var(--fill-color);\n",
              "      border-top-color: var(--fill-color);\n",
              "    }\n",
              "    60% {\n",
              "      border-color: transparent;\n",
              "      border-right-color: var(--fill-color);\n",
              "    }\n",
              "    80% {\n",
              "      border-color: transparent;\n",
              "      border-right-color: var(--fill-color);\n",
              "      border-bottom-color: var(--fill-color);\n",
              "    }\n",
              "    90% {\n",
              "      border-color: transparent;\n",
              "      border-bottom-color: var(--fill-color);\n",
              "    }\n",
              "  }\n",
              "</style>\n",
              "\n",
              "      <script>\n",
              "        async function quickchart(key) {\n",
              "          const quickchartButtonEl =\n",
              "            document.querySelector('#' + key + ' button');\n",
              "          quickchartButtonEl.disabled = true;  // To prevent multiple clicks.\n",
              "          quickchartButtonEl.classList.add('colab-df-spinner');\n",
              "          try {\n",
              "            const charts = await google.colab.kernel.invokeFunction(\n",
              "                'suggestCharts', [key], {});\n",
              "          } catch (error) {\n",
              "            console.error('Error during call to suggestCharts:', error);\n",
              "          }\n",
              "          quickchartButtonEl.classList.remove('colab-df-spinner');\n",
              "          quickchartButtonEl.classList.add('colab-df-quickchart-complete');\n",
              "        }\n",
              "        (() => {\n",
              "          let quickchartButtonEl =\n",
              "            document.querySelector('#df-acf1b23a-47fe-41a4-8e93-5a019e06c0f3 button');\n",
              "          quickchartButtonEl.style.display =\n",
              "            google.colab.kernel.accessAllowed ? 'block' : 'none';\n",
              "        })();\n",
              "      </script>\n",
              "    </div>\n",
              "\n",
              "    </div>\n",
              "  </div>\n"
            ],
            "application/vnd.google.colaboratory.intrinsic+json": {
              "type": "dataframe",
              "variable_name": "clean_df",
              "summary": "{\n  \"name\": \"clean_df\",\n  \"rows\": 98,\n  \"fields\": [\n    {\n      \"column\": \"Job Title\",\n      \"properties\": {\n        \"dtype\": \"string\",\n        \"num_unique_values\": 95,\n        \"samples\": [\n          \"Senior Cloud Services Software Engineer\",\n          \"Senior Engineer Production Operations\",\n          \"Virtual Medical Assistant\"\n        ],\n        \"semantic_type\": \"\",\n        \"description\": \"\"\n      }\n    },\n    {\n      \"column\": \"Company\",\n      \"properties\": {\n        \"dtype\": \"string\",\n        \"num_unique_values\": 79,\n        \"samples\": [\n          \"WEBTOON Entertainment Inc. (Wattpad &amp; WEBTOON Family of Brands)\",\n          \"Interaction Design Foundation\",\n          \"PEXA Group\"\n        ],\n        \"semantic_type\": \"\",\n        \"description\": \"\"\n      }\n    },\n    {\n      \"column\": \"Skills\",\n      \"properties\": {\n        \"dtype\": \"string\",\n        \"num_unique_values\": 97,\n        \"samples\": [\n          \"design, react, system, security, python, full-stack, technical, support, code, web, scrum, scala, typescript, api, leader, senior, stats, golang, health, engineer, backend, digital nomad\",\n          \"director, design, founder, architect, ceo, support, growth, accounting, financial, investment, finance, banking, strategy, management, lead, operations, marketing, sales, health, recruitment, digital nomad\",\n          \"technical, support, web, voice, medical, health, healthcare\"\n        ],\n        \"semantic_type\": \"\",\n        \"description\": \"\"\n      }\n    },\n    {\n      \"column\": \"Date Posted\",\n      \"properties\": {\n        \"dtype\": \"object\",\n        \"num_unique_values\": 98,\n        \"samples\": [\n          \"2025-08-18T16:00:22+00:00\",\n          \"2025-08-21T00:00:25+00:00\",\n          \"2025-08-08T12:00:11+00:00\"\n        ],\n        \"semantic_type\": \"\",\n        \"description\": \"\"\n      }\n    },\n    {\n      \"column\": \"Job URL\",\n      \"properties\": {\n        \"dtype\": \"string\",\n        \"num_unique_values\": 98,\n        \"samples\": [\n          \"https://remoteOK.com/remote-jobs/remote-it-service-desk-manager-viseven-1093847\",\n          \"https://remoteOK.com/remote-jobs/remote-marketing-programs-specialist-cority-1093883\",\n          \"https://remoteOK.com/remote-jobs/remote-customer-experience-associate-koala-health-1093780\"\n        ],\n        \"semantic_type\": \"\",\n        \"description\": \"\"\n      }\n    }\n  ]\n}"
            }
          },
          "metadata": {},
          "execution_count": 42
        }
      ]
    },
    {
      "cell_type": "markdown",
      "source": [
        "## Skill Frequency Analysis"
      ],
      "metadata": {
        "id": "ntACl3EXxWcI"
      }
    },
    {
      "cell_type": "code",
      "source": [
        "from collections import Counter\n",
        "import matplotlib.pyplot as plt\n",
        "\n",
        "# Split skills into a flat list\n",
        "all_skills = []\n",
        "for skills in clean_df[\"Skills\"].dropna():\n",
        "    all_skills.extend([s.strip().lower() for s in skills.split(\",\")])\n",
        "\n",
        "# Count frequency\n",
        "skill_counts = Counter(all_skills).most_common(15)  # Top 15\n",
        "\n",
        "# Convert to DataFrame for display\n",
        "skills_df = pd.DataFrame(skill_counts, columns=[\"Skill\", \"Count\"])\n",
        "\n",
        "print(\"Top 15 Most In-Demand Skills:\")\n",
        "print(skills_df)\n",
        "\n",
        "# Plot bar chart\n",
        "plt.figure(figsize=(10,6))\n",
        "plt.barh(skills_df[\"Skill\"], skills_df[\"Count\"], color=\"skyblue\")\n",
        "plt.gca().invert_yaxis()  # highest at top\n",
        "plt.xlabel(\"Frequency\")\n",
        "plt.title(\"Top 15 Most In-Demand Skills (RemoteOK Jobs)\")\n",
        "plt.show()\n"
      ],
      "metadata": {
        "colab": {
          "base_uri": "https://localhost:8080/",
          "height": 859
        },
        "id": "3LrAGcfzxYf3",
        "outputId": "fb4f17e8-ca86-42d7-c509-ffa4dc29dd9c"
      },
      "execution_count": 43,
      "outputs": [
        {
          "output_type": "stream",
          "name": "stdout",
          "text": [
            "Top 15 Most In-Demand Skills:\n",
            "            Skill  Count\n",
            "0       technical     41\n",
            "1         support     38\n",
            "2        engineer     36\n",
            "3          health     32\n",
            "4   digital nomad     29\n",
            "5        software     29\n",
            "6          senior     26\n",
            "7      management     24\n",
            "8          growth     24\n",
            "9          design     22\n",
            "10           lead     22\n",
            "11    engineering     21\n",
            "12         system     19\n",
            "13      marketing     18\n",
            "14        backend     17\n"
          ]
        },
        {
          "output_type": "display_data",
          "data": {
            "text/plain": [
              "<Figure size 1000x600 with 1 Axes>"
            ],
            "image/png": "[encoded data removed]"
          },
          "metadata": {}
        }
      ]
    },
    {
      "cell_type": "code",
      "source": [
        "skills_df.to_csv(\"skills_frequency.csv\", index=False, encoding=\"utf-8\")\n",
        "print(\"Skills frequency data saved to skills_frequency.csv\")\n"
      ],
      "metadata": {
        "colab": {
          "base_uri": "https://localhost:8080/"
        },
        "id": "_UZPM1Noxp1Z",
        "outputId": "7d2c0352-c135-4a01-ad64-65cdb980a1c8"
      },
      "execution_count": 45,
      "outputs": [
        {
          "output_type": "stream",
          "name": "stdout",
          "text": [
            "Skills frequency data saved to skills_frequency.csv\n"
          ]
        }
      ]
    }
  ]
}